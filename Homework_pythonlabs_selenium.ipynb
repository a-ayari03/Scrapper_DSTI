{
 "cells": [
  {
   "cell_type": "code",
   "execution_count": 9,
   "id": "39cbc834-7b83-46c5-ab8f-ac8a4f5846e2",
   "metadata": {},
   "outputs": [
    {
     "name": "stdout",
     "output_type": "stream",
     "text": [
      "Requirement already satisfied: selenium in c:\\users\\alexa\\anaconda3\\lib\\site-packages (4.1.2)\n",
      "Requirement already satisfied: trio-websocket~=0.9 in c:\\users\\alexa\\anaconda3\\lib\\site-packages (from selenium) (0.9.2)\n",
      "Requirement already satisfied: urllib3[secure,socks]~=1.26 in c:\\users\\alexa\\anaconda3\\lib\\site-packages (from selenium) (1.26.7)\n",
      "Requirement already satisfied: trio~=0.17 in c:\\users\\alexa\\anaconda3\\lib\\site-packages (from selenium) (0.20.0)\n",
      "Requirement already satisfied: cffi>=1.14 in c:\\users\\alexa\\anaconda3\\lib\\site-packages (from trio~=0.17->selenium) (1.14.6)\n",
      "Requirement already satisfied: sortedcontainers in c:\\users\\alexa\\anaconda3\\lib\\site-packages (from trio~=0.17->selenium) (2.4.0)\n",
      "Requirement already satisfied: sniffio in c:\\users\\alexa\\anaconda3\\lib\\site-packages (from trio~=0.17->selenium) (1.2.0)\n",
      "Requirement already satisfied: async-generator>=1.9 in c:\\users\\alexa\\anaconda3\\lib\\site-packages (from trio~=0.17->selenium) (1.10)\n",
      "Requirement already satisfied: outcome in c:\\users\\alexa\\anaconda3\\lib\\site-packages (from trio~=0.17->selenium) (1.1.0)\n",
      "Requirement already satisfied: attrs>=19.2.0 in c:\\users\\alexa\\anaconda3\\lib\\site-packages (from trio~=0.17->selenium) (21.2.0)\n",
      "Requirement already satisfied: idna in c:\\users\\alexa\\anaconda3\\lib\\site-packages (from trio~=0.17->selenium) (3.2)\n",
      "Requirement already satisfied: pycparser in c:\\users\\alexa\\anaconda3\\lib\\site-packages (from cffi>=1.14->trio~=0.17->selenium) (2.20)\n",
      "Requirement already satisfied: wsproto>=0.14 in c:\\users\\alexa\\anaconda3\\lib\\site-packages (from trio-websocket~=0.9->selenium) (1.1.0)\n",
      "Requirement already satisfied: pyOpenSSL>=0.14 in c:\\users\\alexa\\anaconda3\\lib\\site-packages (from urllib3[secure,socks]~=1.26->selenium) (21.0.0)\n",
      "Requirement already satisfied: cryptography>=1.3.4 in c:\\users\\alexa\\anaconda3\\lib\\site-packages (from urllib3[secure,socks]~=1.26->selenium) (3.4.8)\n",
      "Requirement already satisfied: certifi in c:\\users\\alexa\\anaconda3\\lib\\site-packages (from urllib3[secure,socks]~=1.26->selenium) (2021.10.8)\n",
      "Requirement already satisfied: PySocks!=1.5.7,<2.0,>=1.5.6 in c:\\users\\alexa\\anaconda3\\lib\\site-packages (from urllib3[secure,socks]~=1.26->selenium) (1.7.1)\n",
      "Requirement already satisfied: six>=1.5.2 in c:\\users\\alexa\\anaconda3\\lib\\site-packages (from pyOpenSSL>=0.14->urllib3[secure,socks]~=1.26->selenium) (1.16.0)\n",
      "Requirement already satisfied: h11<1,>=0.9.0 in c:\\users\\alexa\\anaconda3\\lib\\site-packages (from wsproto>=0.14->trio-websocket~=0.9->selenium) (0.13.0)\n",
      "Collecting webdriver-manager\n",
      "  Downloading webdriver_manager-3.7.0-py2.py3-none-any.whl (25 kB)\n",
      "Requirement already satisfied: requests in c:\\users\\alexa\\anaconda3\\lib\\site-packages (from webdriver-manager) (2.26.0)\n",
      "Collecting python-dotenv\n",
      "  Downloading python_dotenv-0.20.0-py3-none-any.whl (17 kB)\n",
      "Requirement already satisfied: urllib3<1.27,>=1.21.1 in c:\\users\\alexa\\anaconda3\\lib\\site-packages (from requests->webdriver-manager) (1.26.7)\n",
      "Requirement already satisfied: certifi>=2017.4.17 in c:\\users\\alexa\\anaconda3\\lib\\site-packages (from requests->webdriver-manager) (2021.10.8)\n",
      "Requirement already satisfied: charset-normalizer~=2.0.0 in c:\\users\\alexa\\anaconda3\\lib\\site-packages (from requests->webdriver-manager) (2.0.4)\n",
      "Requirement already satisfied: idna<4,>=2.5 in c:\\users\\alexa\\anaconda3\\lib\\site-packages (from requests->webdriver-manager) (3.2)\n",
      "Installing collected packages: python-dotenv, webdriver-manager\n",
      "Successfully installed python-dotenv-0.20.0 webdriver-manager-3.7.0\n"
     ]
    }
   ],
   "source": [
    "! pip install selenium \n",
    "! pip install webdriver-manager"
   ]
  },
  {
   "cell_type": "code",
   "execution_count": 45,
   "id": "f250fa86-d20a-4f29-8bec-18e44dc2ef66",
   "metadata": {},
   "outputs": [],
   "source": [
    "import sys\n",
    "from selenium import webdriver\n",
    "from webdriver_manager.chrome import ChromeDriverManager\n",
    "from selenium.webdriver.common.by import By\n",
    "from time import sleep, ctime\n",
    "from collections import namedtuple\n",
    "from threading import Thread\n",
    "from os.path import isfile\n",
    "import csv\n"
   ]
  },
  {
   "cell_type": "markdown",
   "id": "ef2cb9c4-f89e-424b-8a38-2901a195ba41",
   "metadata": {},
   "source": [
    "## Chrome option"
   ]
  },
  {
   "cell_type": "code",
   "execution_count": null,
   "id": "42c7df19-44b9-4dda-bfca-5d53099a941c",
   "metadata": {},
   "outputs": [],
   "source": [
    "chrome_options = webdriver.ChromeOptions()\n",
    "chrome_options.add_argument('--headless')\n",
    "chrome_options.add_argument('--no-sandbox')\n",
    "chrome_options.add_argument('--disable-dev-shm-usage')"
   ]
  },
  {
   "cell_type": "code",
   "execution_count": 11,
   "id": "b52ecda2-e329-4b6c-86f1-3a45765d1163",
   "metadata": {},
   "outputs": [
    {
     "name": "stdout",
     "output_type": "stream",
     "text": [
      "\n"
     ]
    },
    {
     "name": "stderr",
     "output_type": "stream",
     "text": [
      "[WDM] - ====== WebDriver manager ======\n",
      "[WDM] - Current google-chrome version is 101.0.4951\n",
      "[WDM] - Get LATEST chromedriver version for 101.0.4951 google-chrome\n",
      "[WDM] - There is no [win32] chromedriver for browser 101.0.4951 in cache\n",
      "[WDM] - About to download new driver from https://chromedriver.storage.googleapis.com/101.0.4951.41/chromedriver_win32.zip\n",
      "[WDM] - Driver has been saved in cache [C:\\Users\\alexa\\.wdm\\drivers\\chromedriver\\win32\\101.0.4951.41]\n",
      "C:\\Users\\alexa\\AppData\\Local\\Temp/ipykernel_14700/2361718801.py:1: DeprecationWarning: executable_path has been deprecated, please pass in a Service object\n",
      "  wd =  webdriver.Chrome(ChromeDriverManager().install(),chrome_options=chrome_options)\n",
      "C:\\Users\\alexa\\AppData\\Local\\Temp/ipykernel_14700/2361718801.py:1: DeprecationWarning: use options instead of chrome_options\n",
      "  wd =  webdriver.Chrome(ChromeDriverManager().install(),chrome_options=chrome_options)\n"
     ]
    }
   ],
   "source": [
    "# Install last webdriver and bypass webdrive PATH install\n",
    "wd =  webdriver.Chrome(ChromeDriverManager().install(),chrome_options=chrome_options)"
   ]
  },
  {
   "cell_type": "code",
   "execution_count": 13,
   "id": "6a33dd12-76d1-4fbe-ba04-6d90a3b3a7be",
   "metadata": {},
   "outputs": [],
   "source": [
    "# Access webpage\n",
    "URL = 'https://bandcamp.com'\n",
    "wd.get(URL)"
   ]
  },
  {
   "cell_type": "markdown",
   "id": "1bea5c87-a9db-4def-9d1c-7aa0e25cec3f",
   "metadata": {},
   "source": [
    "## Launch Track"
   ]
  },
  {
   "cell_type": "code",
   "execution_count": 24,
   "id": "da801813-c160-4387-8ddc-0a06f46bd5f6",
   "metadata": {},
   "outputs": [],
   "source": [
    "wd.find_elements(by=By.CLASS_NAME, value='playbutton')[0].click()"
   ]
  },
  {
   "cell_type": "markdown",
   "id": "fdd3aca4-1f7b-4331-b154-1fad649398c4",
   "metadata": {},
   "source": [
    "## List discover track"
   ]
  },
  {
   "cell_type": "code",
   "execution_count": 26,
   "id": "191597c2-d44e-4f4d-bf52-0e89c1773f84",
   "metadata": {},
   "outputs": [],
   "source": [
    "tracks = wd.find_elements(by=By.CLASS_NAME, value='discover-item')"
   ]
  },
  {
   "cell_type": "code",
   "execution_count": 30,
   "id": "3d8fd373-eb9f-441e-b969-f553b0aadf0e",
   "metadata": {},
   "outputs": [
    {
     "data": {
      "text/plain": [
       "\"God's Country\\nChat Pile\\nmetal\""
      ]
     },
     "execution_count": 30,
     "metadata": {},
     "output_type": "execute_result"
    }
   ],
   "source": [
    "tracks[0].text # music name"
   ]
  },
  {
   "cell_type": "markdown",
   "id": "7f6a84de-7bb4-44be-91bf-e89690c00de5",
   "metadata": {},
   "source": [
    "## Exploring the catalogue"
   ]
  },
  {
   "cell_type": "code",
   "execution_count": 38,
   "id": "154db1aa-f2aa-42c1-b1d8-3a899a9bfc71",
   "metadata": {},
   "outputs": [],
   "source": [
    "# get the next item\n",
    "next_button = [e for e in wd.find_elements(by=By.CLASS_NAME, value='item-page') if e.text.lower().find('next') > -1][0]"
   ]
  },
  {
   "cell_type": "code",
   "execution_count": 39,
   "id": "d49444ae-0cff-4f85-8bb6-7082c141514d",
   "metadata": {},
   "outputs": [],
   "source": [
    "next_button.click()"
   ]
  },
  {
   "cell_type": "markdown",
   "id": "2b0b8c13-8500-4048-866a-5367c114ade3",
   "metadata": {},
   "source": [
    "# Building the class"
   ]
  },
  {
   "cell_type": "code",
   "execution_count": 59,
   "id": "0e61358d-bb42-4766-98d5-1b742d3e104e",
   "metadata": {},
   "outputs": [],
   "source": [
    "class BandLeader():\n",
    "    def __init__(self, csvpath = None):\n",
    "        self.database_path=csvpath # filepath\n",
    "        self.database = [] # initialize database\n",
    "\n",
    "        # Load database from disk if exist\n",
    "        if isfile(self.database_path):\n",
    "            with open(self.database_path, newline='') as dbfile:\n",
    "                dbreader = csv.reader(dbfile)\n",
    "                next(dbreader)   # To ignore the header line\n",
    "                self.database = [TrackRec._make(rec) for rec in dbreader]\n",
    "                \n",
    "                \n",
    "        # Create a headless browser\n",
    "        chrome_options = webdriver.ChromeOptions()\n",
    "        chrome_options.add_argument('--headless')\n",
    "        chrome_options.add_argument('--no-sandbox')\n",
    "        chrome_options.add_argument('--disable-dev-shm-usage')    \n",
    "        self.browser = webdriver.Chrome(ChromeDriverManager().install(),chrome_options=chrome_options) # Install last webdriver and bypass webdrive PATH install\n",
    "        self.browser.get(BANDCAMP_FRONTPAGE)\n",
    "\n",
    "        # Track list related state\n",
    "        self._current_track_number = 1\n",
    "        self.track_list = []\n",
    "        self.tracks()\n",
    "        \n",
    "        # State for the database\n",
    "        self.database = []\n",
    "        self._current_track_record = None\n",
    "\n",
    "        # The database maintenance thread\n",
    "        self.thread = Thread(target=self._maintain)\n",
    "        self.thread.daemon = True    # Kills the thread with the main process dies\n",
    "        self.thread.start()\n",
    "\n",
    "        self.tracks()\n",
    "        \n",
    "        \n",
    "    def _maintain(self):\n",
    "        while True:\n",
    "            self._update_db()\n",
    "            sleep(15)          # Check every 15 seconds\n",
    "\n",
    "\n",
    "    def _update_db(self): \n",
    "        \"\"\"\n",
    "        Append new track to database list\n",
    "        \"\"\"\n",
    "        try:\n",
    "            check = (self._current_track_record is not None\n",
    "                     and self._current_track_record is not None\n",
    "                     and (len(self.database) == 0\n",
    "                          or self.database[-1] != self._current_track_record)\n",
    "                     and self.is_playing())\n",
    "            if check:\n",
    "                self.database.append(self._current_track_record)\n",
    "                self.save_db()\n",
    "\n",
    "        except Exception as e:\n",
    "            print('error while updating the db: {}'.format(e)) # threw error if update failed\n",
    "                  \n",
    "                  \n",
    "    def save_db(self):\n",
    "        \"\"\"\n",
    "        save database to a specified database_path csv file\n",
    "        \"\"\"\n",
    "        with open(self.database_path,'w',newline='') as dbfile:\n",
    "            dbwriter = csv.writer(dbfile)\n",
    "            dbwriter.writerow(list(TrackRec._fields))\n",
    "            for entry in self.database:\n",
    "                dbwriter.writerow(list(entry))\n",
    "                \n",
    "                \n",
    "    def tracks(self):\n",
    "        '''\n",
    "        Query the page to populate a list of available tracks.\n",
    "        '''\n",
    "\n",
    "        # Sleep to give the browser time to render and finish any animations\n",
    "        sleep(1)\n",
    "\n",
    "        # Get the container for the visible track list\n",
    "        discover_section = self.browser.find_element_by_class_name('discover-results')\n",
    "        left_x = discover_section.location['x']\n",
    "        right_x = left_x + discover_section.size['width']\n",
    "\n",
    "        # Filter the items in the list to include only those we can click\n",
    "        discover_items = self.browser.find_elements_by_class_name('discover-item')\n",
    "        self.track_list = [t for t in discover_items\n",
    "                           if t.location['x'] >= left_x and t.location['x'] < right_x]\n",
    "\n",
    "        # Print the available tracks to the screen\n",
    "        for (i,track) in enumerate(self.track_list):\n",
    "            print('[{}]'.format(i+1))\n",
    "            lines = track.text.split('\\n')\n",
    "            print('Album  : {}'.format(lines[0]))\n",
    "            print('Artist : {}'.format(lines[1]))\n",
    "            if len(lines) > 2:\n",
    "                print('Genre  : {}'.format(lines[2]))\n",
    "\n",
    "    def catalogue_pages(self):\n",
    "        '''\n",
    "        Print the available pages in the catalogue that are presently\n",
    "        accessible.\n",
    "        '''\n",
    "        print('PAGES')\n",
    "        for e in self.browser.find_elements_by_class_name('item-page'):\n",
    "            print(e.text)\n",
    "        print('')\n",
    "\n",
    "\n",
    "    def more_tracks(self,page='next'):\n",
    "        '''\n",
    "        Advances the catalogue and repopulates the track list. We can pass in a number\n",
    "        to advance any of the available pages.\n",
    "        '''\n",
    "\n",
    "        next_btn = [e for e in self.browser.find_elements_by_class_name('item-page')\n",
    "                    if e.text.lower().strip() == str(page)]\n",
    "\n",
    "        if next_btn:\n",
    "            next_btn[0].click()\n",
    "            self.tracks()\n",
    "\n",
    "    def play(self, track=None):\n",
    "        '''\n",
    "        Play a track. If no track number is supplied, the presently selected track\n",
    "        will play.\n",
    "        '''\n",
    "        if track is None:\n",
    "            self.browser.find_element_by_class_name('playbutton').click()\n",
    "        elif type(track) is int and track <= len(self.track_list) and track >= 1:\n",
    "            self._current_track_number = track\n",
    "            self.track_list[self._current_track_number - 1].click()\n",
    "\n",
    "        sleep(0.5)\n",
    "        if self.is_playing():\n",
    "            self._current_track_record = self.currently_playing()\n",
    "\n",
    "\n",
    "\n",
    "    def play_next(self):\n",
    "        '''\n",
    "        Plays the next available track\n",
    "        '''\n",
    "        if self._current_track_number < len(self.track_list):\n",
    "            self.play(self._current_track_number+1)\n",
    "        else:\n",
    "            self.more_tracks()\n",
    "            self.play(1)\n",
    "\n",
    "\n",
    "    def pause(self):\n",
    "        '''\n",
    "        Pauses the playback\n",
    "        '''\n",
    "        self.play()\n",
    "\n",
    "        def is_playing(self):\n",
    "            '''\n",
    "            Returns `True` if a track is presently playing\n",
    "            '''\n",
    "        playbtn = self.browser.find_element_by_class_name('playbutton')\n",
    "        return playbtn.get_attribute('class').find('playing') > -1\n",
    "\n",
    "\n",
    "    def currently_playing(self):\n",
    "        '''\n",
    "        Returns the record for the currently playing track,\n",
    "        or None if nothing is playing\n",
    "        '''\n",
    "        try:\n",
    "            if self.is_playing():\n",
    "                title = self.browser.find_element_by_class_name('title').text\n",
    "                album_detail = self.browser.find_element_by_css_selector('.detail-album > a')\n",
    "                album_title = album_detail.text\n",
    "                album_url = album_detail.get_attribute('href').split('?')[0]\n",
    "                artist_detail = self.browser.find_element_by_css_selector('.detail-artist > a')\n",
    "                artist = artist_detail.text\n",
    "                artist_url = artist_detail.get_attribute('href').split('?')[0]\n",
    "                return TrackRec(title, artist, artist_url, album_title, album_url, ctime())\n",
    "\n",
    "        except Exception as e:\n",
    "            print('there was an error: {}'.format(e))\n",
    "\n",
    "        return None\n"
   ]
  },
  {
   "cell_type": "code",
   "execution_count": 55,
   "id": "07b9d0a9-143b-4d4c-8ee1-d394d34b4ff8",
   "metadata": {},
   "outputs": [],
   "source": [
    "TrackRec = namedtuple('TrackRec', [\n",
    "    'title', \n",
    "    'artist',\n",
    "    'artist_url', \n",
    "    'album',\n",
    "    'album_url', \n",
    "    'timestamp'  # When you played it\n",
    "])"
   ]
  }
 ],
 "metadata": {
  "kernelspec": {
   "display_name": "Python 3 (ipykernel)",
   "language": "python",
   "name": "python3"
  },
  "language_info": {
   "codemirror_mode": {
    "name": "ipython",
    "version": 3
   },
   "file_extension": ".py",
   "mimetype": "text/x-python",
   "name": "python",
   "nbconvert_exporter": "python",
   "pygments_lexer": "ipython3",
   "version": "3.9.7"
  }
 },
 "nbformat": 4,
 "nbformat_minor": 5
}
