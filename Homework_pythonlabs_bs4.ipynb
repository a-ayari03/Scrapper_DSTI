{
 "cells": [
  {
   "cell_type": "markdown",
   "id": "67160fa4-2914-4834-b7cf-ccb4817ddce5",
   "metadata": {},
   "source": [
    "### https://realpython.com/beautiful-soup-web-scraper-python/#step-3-parse-html-code-with-beautiful-soup"
   ]
  },
  {
   "cell_type": "code",
   "execution_count": 1,
   "id": "83f078fe-a8a8-428b-a85c-5bb942492b5e",
   "metadata": {},
   "outputs": [],
   "source": [
    "import requests\n",
    "from bs4 import BeautifulSoup"
   ]
  },
  {
   "cell_type": "code",
   "execution_count": 85,
   "id": "6788416e-9cd8-4a9d-86a2-61d0df1bee39",
   "metadata": {},
   "outputs": [],
   "source": [
    "def get_soup(URL :str) :\n",
    "    \"\"\"\n",
    "    Convert an URL request into a BeautifulSoup item\n",
    "    \"\"\"\n",
    "    page = requests.get(URL)\n",
    "    soup = BeautifulSoup(page.content, \"html.parser\")\n",
    "    \n",
    "    return soup\n",
    "\n",
    "    "
   ]
  },
  {
   "cell_type": "code",
   "execution_count": 12,
   "id": "55cab2de-6325-47cd-9d0d-699737bfbbab",
   "metadata": {},
   "outputs": [],
   "source": [
    "URL  = \"https://realpython.github.io/fake-jobs/\"\n",
    "soup = get_soup(URL) "
   ]
  },
  {
   "cell_type": "code",
   "execution_count": 42,
   "id": "ffe5d438-beb1-4dec-a8c7-7ee994023f1b",
   "metadata": {},
   "outputs": [
    {
     "name": "stdout",
     "output_type": "stream",
     "text": [
      "Energy engineer\n",
      "Vasquez-Davidson\n"
     ]
    }
   ],
   "source": [
    "# This allows to access 1 fake job position and his subtitle\n",
    "i = 1\n",
    "print(soup.find_all('h2')[i].text.strip())    #Title\n",
    "print(soup.find_all('h3')[i].text.strip())    #Subtitle"
   ]
  },
  {
   "cell_type": "markdown",
   "id": "0dc3e97a-717a-4a22-b4f2-436aa5b812d3",
   "metadata": {},
   "source": [
    "## List all element by tag"
   ]
  },
  {
   "cell_type": "code",
   "execution_count": 39,
   "id": "aa98472b-acee-48ba-9483-91a292feec38",
   "metadata": {},
   "outputs": [],
   "source": [
    "def get_element_by_tag(soup, tag :str, class_ :str = None) -> list : \n",
    "    '''\n",
    "    List all webpage element based on a keyword tag\n",
    "    '''\n",
    "    if class_ is None :\n",
    "        tags = soup.find_all(tag)\n",
    "    else :\n",
    "        tags = soup.find_all(tag, class_ = class_)\n",
    "    \n",
    "    return [element.text.strip() for element in tags]\n",
    "    "
   ]
  },
  {
   "cell_type": "code",
   "execution_count": 40,
   "id": "3ec64d5a-027a-4eef-b1d8-e5922bce47d5",
   "metadata": {},
   "outputs": [],
   "source": [
    "Title = get_element_by_tag(soup, 'h2')\n",
    "Sub_title = get_element_by_tag(soup, 'h3')\n",
    "location = get_element_by_tag(soup, 'p', class_=\"location\")  "
   ]
  },
  {
   "cell_type": "markdown",
   "id": "2ab5f53e-ea56-4225-8533-0ac9d6997274",
   "metadata": {},
   "source": [
    "## Find Elements by Class Name and Text Content"
   ]
  },
  {
   "cell_type": "code",
   "execution_count": 56,
   "id": "080f47ff-bf78-4b61-84bd-697c5868eca0",
   "metadata": {},
   "outputs": [],
   "source": [
    "def get_element_by_keyword(soup, tag :str, string :str = None) -> list : \n",
    "    '''\n",
    "    List all webpage element based on a class and keyword tag\n",
    "    '''\n",
    "    if string is None :\n",
    "        tags = soup.find_all(tag)\n",
    "    else :\n",
    "        string = string.lower() # Decaptilalize word\n",
    "        tags = soup.find_all(tag, string = lambda x : string in x.lower())\n",
    "    \n",
    "    return [element.text.strip() for element in tags]\n",
    "    "
   ]
  },
  {
   "cell_type": "code",
   "execution_count": 57,
   "id": "6e140bbb-ee6f-448f-9e6a-4597faab0414",
   "metadata": {},
   "outputs": [
    {
     "data": {
      "text/plain": [
       "['Senior Python Developer',\n",
       " 'Software Engineer (Python)',\n",
       " 'Python Programmer (Entry-Level)',\n",
       " 'Python Programmer (Entry-Level)',\n",
       " 'Software Developer (Python)',\n",
       " 'Python Developer',\n",
       " 'Back-End Web Developer (Python, Django)',\n",
       " 'Back-End Web Developer (Python, Django)',\n",
       " 'Python Programmer (Entry-Level)',\n",
       " 'Software Developer (Python)']"
      ]
     },
     "execution_count": 57,
     "metadata": {},
     "output_type": "execute_result"
    }
   ],
   "source": [
    "get_element_by_keyword(soup, 'h2', string=\"Python\") "
   ]
  },
  {
   "cell_type": "code",
   "execution_count": 76,
   "id": "fdc7c848-1c13-4042-bd06-77a596aa214f",
   "metadata": {},
   "outputs": [],
   "source": [
    "def get_data_by_jobcard(soup, tag :str, string :str = None) -> list :\n",
    "    '''\n",
    "    List all card content related to a keyword\n",
    "    '''\n",
    "    if string is None :\n",
    "        tags = soup.find_all(tag)\n",
    "    else :\n",
    "        string = string.lower() # Decaptilalize word\n",
    "        tags = soup.find_all(tag, string = lambda x : string in x.lower())\n",
    "    \n",
    "    return [h2_element.parent.parent.parent for h2_element in python_jobs]"
   ]
  },
  {
   "cell_type": "code",
   "execution_count": 77,
   "id": "d721c21a-da27-4566-8642-123da571d7e5",
   "metadata": {},
   "outputs": [],
   "source": [
    "python_job_elements = get_data_by_jobcard(soup, 'Python') # List all card content related to python"
   ]
  },
  {
   "cell_type": "code",
   "execution_count": 83,
   "id": "c6aeb12b-3bc2-46ce-8ae0-32d333d3c8ad",
   "metadata": {},
   "outputs": [],
   "source": [
    "def list_job_url(job_list : list) -> list :\n",
    "    job_url = []\n",
    "    \n",
    "    for job in python_job_elements :\n",
    "        links = job.find_all(\"a\")\n",
    "        for link in links:\n",
    "            link_url = link[\"href\"] # apply url\n",
    "            job_url.append(link_url) # list all url \n",
    "    return job_url"
   ]
  },
  {
   "cell_type": "code",
   "execution_count": 84,
   "id": "9e51a7ad-fc80-4796-9a6d-66759e29a58e",
   "metadata": {},
   "outputs": [],
   "source": [
    "job_list = list_job_url(python_job_elements)"
   ]
  }
 ],
 "metadata": {
  "kernelspec": {
   "display_name": "Python 3 (ipykernel)",
   "language": "python",
   "name": "python3"
  },
  "language_info": {
   "codemirror_mode": {
    "name": "ipython",
    "version": 3
   },
   "file_extension": ".py",
   "mimetype": "text/x-python",
   "name": "python",
   "nbconvert_exporter": "python",
   "pygments_lexer": "ipython3",
   "version": "3.9.7"
  }
 },
 "nbformat": 4,
 "nbformat_minor": 5
}
